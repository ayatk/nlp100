{
 "cells": [
  {
   "cell_type": "markdown",
   "metadata": {},
   "source": [
    "# 第7章: データベース\n",
    "\n",
    "artist.json.gzは，オープンな音楽データベースMusicBrainzの中で，アーティストに関するものをJSON形式に変換し，gzip形式で圧縮したファイルである．このファイルには，1アーティストに関する情報が1行にJSON形式で格納されている．JSON形式の概要は以下の通りである．"
   ]
  },
  {
   "cell_type": "markdown",
   "metadata": {},
   "source": [
    "### 60. KVSの構築\n",
    "\n",
    "Key-Value-Store (KVS) を用い，アーティスト名（name）から活動場所（area）を検索するためのデータベースを構築せよ．"
   ]
  },
  {
   "cell_type": "code",
   "execution_count": 1,
   "metadata": {},
   "outputs": [
    {
     "data": {
      "text/plain": [
       "[{'ended': True,\n",
       "  'gid': '8972b1c1-6482-4750-b51f-596d2edea8b1',\n",
       "  'id': 805192,\n",
       "  'name': 'WIK▲N',\n",
       "  'sort_name': 'WIK▲N',\n",
       "  'tags': [{'count': 1, 'value': 'sillyname'}]},\n",
       " {'ended': True,\n",
       "  'gid': 'b4f76788-7e6f-41b7-ac7b-dfb67f66282e',\n",
       "  'id': 578352,\n",
       "  'name': 'Gustav Ruppke',\n",
       "  'sort_name': 'Gustav Ruppke',\n",
       "  'type': 'Person'},\n",
       " {'ended': True,\n",
       "  'gid': '49add228-eac5-4de8-836c-d75cde7369c3',\n",
       "  'id': 371203,\n",
       "  'name': 'Pete Moutso',\n",
       "  'sort_name': 'Moutso, Pete',\n",
       "  'type': 'Person'},\n",
       " {'ended': True,\n",
       "  'gid': 'c112a400-af49-4665-8bba-741531d962a1',\n",
       "  'id': 273232,\n",
       "  'name': 'Zachary',\n",
       "  'sort_name': 'Zachary'},\n",
       " {'ended': True,\n",
       "  'gid': 'c42eed94-e233-44e2-82b8-3ed6dd9bf318',\n",
       "  'id': 153193,\n",
       "  'name': 'The High Level Ranters',\n",
       "  'sort_name': 'High Level Ranters, The',\n",
       "  'type': 'Group'},\n",
       " {'aliases': [{'name': 'Silhouettes', 'sort_name': 'Silhouettes'},\n",
       "   {'name': 'The Sihouettes', 'sort_name': 'The Sihouettes'}],\n",
       "  'area': 'United States',\n",
       "  'begin': {'year': 1956},\n",
       "  'end': {'year': 1993},\n",
       "  'ended': True,\n",
       "  'gid': 'ca3f3ee1-c4a7-4bac-a16a-0b888a396c6b',\n",
       "  'id': 101060,\n",
       "  'name': 'The Silhouettes',\n",
       "  'sort_name': 'Silhouettes, The',\n",
       "  'type': 'Group'},\n",
       " {'ended': True,\n",
       "  'gid': '7b4a548e-a01a-49b7-82e7-b49efeb9732c',\n",
       "  'id': 145773,\n",
       "  'name': 'Aric Leavitt',\n",
       "  'sort_name': 'Leavitt, Aric'},\n",
       " {'ended': True,\n",
       "  'gid': '60aca66f-e91a-4cb5-9308-b6e293cd833e',\n",
       "  'id': 1076328,\n",
       "  'name': 'Fonograff',\n",
       "  'sort_name': 'Fonograff'},\n",
       " {'area': 'United States',\n",
       "  'ended': True,\n",
       "  'gender': 'Male',\n",
       "  'gid': '3e1bd546-d2a7-49cb-b38d-d70904a1d719',\n",
       "  'id': 1172876,\n",
       "  'name': 'Al Street',\n",
       "  'sort_name': 'Street, Al',\n",
       "  'type': 'Person'},\n",
       " {'ended': True,\n",
       "  'gid': 'df120895-f6c6-4a66-b9cf-73350f0beb61',\n",
       "  'id': 220155,\n",
       "  'name': 'Love .45',\n",
       "  'sort_name': 'Love .45'}]"
      ]
     },
     "execution_count": 1,
     "metadata": {},
     "output_type": "execute_result"
    }
   ],
   "source": [
    "import gzip\n",
    "import json\n",
    "\n",
    "artists = []\n",
    "with gzip.open('./data/chapter07/artist.json.gz', 'r') as f:\n",
    "    while True:\n",
    "        line = f.readline()\n",
    "        if not line:\n",
    "            break\n",
    "        artists.append(json.loads(line))\n",
    "        \n",
    "artists[:10]"
   ]
  },
  {
   "cell_type": "code",
   "execution_count": 2,
   "metadata": {},
   "outputs": [
    {
     "data": {
      "text/plain": [
       "[b'Arne Vinzon_741499',\n",
       " b'Richard Kirk_962529',\n",
       " b'No Way Sis_982638',\n",
       " b'heymoonshaker_897586',\n",
       " b'B.Lester_991148',\n",
       " b'Shannon Selberg_433232',\n",
       " b'Kubrak_758537',\n",
       " b'Power of Idea_1104176',\n",
       " b'Anna-Leena H\\xc3\\xa4rk\\xc3\\xb6nen_215590',\n",
       " b'\\xe5\\xb1\\xb1\\xe8\\xb7\\xaf\\xe4\\xb8\\x80\\xe5\\xbf\\x97_1073296']"
      ]
     },
     "execution_count": 2,
     "metadata": {},
     "output_type": "execute_result"
    }
   ],
   "source": [
    "import redis\n",
    "\n",
    "# redis サーバの設定\n",
    "# ホスト名はDocke Composeで設定した名前を指定するとDocker側で名前解決してくれる\n",
    "r = redis.StrictRedis(host='redis', port=6379, db=0)\n",
    "pipe = r.pipeline()\n",
    "pipe.flushall()\n",
    "for i in artists:\n",
    "    if 'area' in i.keys():\n",
    "        # 名前の重複に対応するため名前とidをアンダーバーでつなげたものをキーとした\n",
    "        pipe.set(i['name'] + \"_\" + str(i['id']), i['area'])\n",
    "\n",
    "pipe.keys()\n",
    "pipe.execute()[-1][:10]"
   ]
  },
  {
   "cell_type": "markdown",
   "metadata": {},
   "source": [
    "### 61. KVSの検索\n",
    "\n",
    "60で構築したデータベースを用い，特定の（指定された）アーティストの活動場所を取得せよ．"
   ]
  },
  {
   "cell_type": "code",
   "execution_count": 3,
   "metadata": {},
   "outputs": [
    {
     "name": "stdout",
     "output_type": "stream",
     "text": [
      "Oasis_377879: United Kingdom\n",
      "Oasis_20660: United Kingdom\n",
      "Oasis_286198: United States\n"
     ]
    }
   ],
   "source": [
    "for i in r.keys(pattern='Oasis_*'):\n",
    "    print(i.decode('utf8') + \": \" + r.get(i).decode('utf8'))"
   ]
  },
  {
   "cell_type": "markdown",
   "metadata": {},
   "source": [
    "### 62. KVS内の反復処理\n",
    "\n",
    "60で構築したデータベースを用い，活動場所が「Japan」となっているアーティスト数を求めよ．"
   ]
  },
  {
   "cell_type": "code",
   "execution_count": 4,
   "metadata": {},
   "outputs": [
    {
     "data": {
      "text/plain": [
       "22821"
      ]
     },
     "execution_count": 4,
     "metadata": {},
     "output_type": "execute_result"
    }
   ],
   "source": [
    "len([i for i in r.keys() if r.get(i).decode('utf8') == \"Japan\"])"
   ]
  },
  {
   "cell_type": "markdown",
   "metadata": {},
   "source": [
    "### 63. オブジェクトを値に格納したKVS\n",
    "\n",
    "KVSを用い，アーティスト名（name）からタグと被タグ数（タグ付けされた回数）のリストを検索するためのデータベースを構築せよ．さらに，ここで構築したデータベースを用い，アーティスト名からタグと被タグ数を検索せよ．"
   ]
  },
  {
   "cell_type": "code",
   "execution_count": 5,
   "metadata": {},
   "outputs": [
    {
     "data": {
      "text/plain": [
       "[b'Lothar Koch',\n",
       " b'\\xe6\\xa1\\x82\\xe9\\x9b\\x80\\xe3\\x80\\x85',\n",
       " b'\\xe9\\xbe\\x8d\\xe9\\x96\\x80\\xe6\\xb8\\x95\\xe9\\x80\\x8f\\xe8\\x8f\\xaf',\n",
       " b'Skumju akme\\xc5\\x86i',\n",
       " b'Marc Fosset',\n",
       " b'Pepe Lienhard',\n",
       " b'The Low Countries',\n",
       " b'Jason Marbach',\n",
       " b'Looza',\n",
       " b'Totenkopf']"
      ]
     },
     "execution_count": 5,
     "metadata": {},
     "output_type": "execute_result"
    }
   ],
   "source": [
    "r_obj = redis.StrictRedis(host='redis', port=6379, db=1)\n",
    "obj_pipe = r_obj.pipeline()\n",
    "obj_pipe.flushall()\n",
    "for i in artists:\n",
    "    if 'tags' in i.keys():\n",
    "        for j in i['tags']:\n",
    "            obj_pipe.lpush(i['name'], j)\n",
    "\n",
    "obj_pipe.keys()\n",
    "obj_pipe.execute()[-1][:10]"
   ]
  },
  {
   "cell_type": "code",
   "execution_count": 6,
   "metadata": {},
   "outputs": [
    {
     "name": "stdout",
     "output_type": "stream",
     "text": [
      "rac: 1\n",
      "twats: 1\n",
      "nazi: 1\n",
      "racist: 1\n"
     ]
    }
   ],
   "source": [
    "# タグ数と被タグ数\n",
    "for i in r_obj.lrange('Totenkopf',0 ,-1):\n",
    "    tag = json.loads(i.decode('utf8').replace(\"'\", '\"'))\n",
    "    print(\"%s: %d\" % (tag['value'], tag['count']))"
   ]
  },
  {
   "cell_type": "markdown",
   "metadata": {},
   "source": [
    "### 64. MongoDBの構築\n",
    "\n",
    "アーティスト情報（artist.json.gz）をデータベースに登録せよ．さらに，次のフィールドでインデックスを作成せよ: name, aliases.name, tags.value, rating.value"
   ]
  },
  {
   "cell_type": "code",
   "execution_count": 7,
   "metadata": {},
   "outputs": [],
   "source": [
    "import pymongo\n",
    "\n",
    "# mongodb へのアクセスを確立\n",
    "mongo = pymongo.MongoClient('mongo', 27017)\n",
    "# DBの作成\n",
    "db = mongo.nlp100\n",
    "# コレクションの作成\n",
    "collection = db.artists"
   ]
  },
  {
   "cell_type": "markdown",
   "metadata": {},
   "source": [
    "コレクションに `artists` のオブジェクトをinsert"
   ]
  },
  {
   "cell_type": "code",
   "execution_count": 8,
   "metadata": {},
   "outputs": [
    {
     "data": {
      "text/plain": [
       "<pymongo.results.InsertManyResult at 0x7f5fee3b3d48>"
      ]
     },
     "execution_count": 8,
     "metadata": {},
     "output_type": "execute_result"
    }
   ],
   "source": [
    "# バルクインサートするぞい〜\n",
    "collection.insert_many(artists)"
   ]
  },
  {
   "cell_type": "markdown",
   "metadata": {},
   "source": [
    "### 65. MongoDBの検索\n",
    "\n",
    "MongoDBのインタラクティブシェルを用いて，\"Queen\"というアーティストに関する情報を取得せよ．さらに，これと同様の処理を行うプログラムを実装せよ．"
   ]
  },
  {
   "cell_type": "code",
   "execution_count": 9,
   "metadata": {},
   "outputs": [
    {
     "data": {
      "text/plain": [
       "[{'_id': ObjectId('5a37be088d417a0015902a87'),\n",
       "  'aliases': [{'name': 'Queen', 'sort_name': 'Queen'}],\n",
       "  'area': 'Japan',\n",
       "  'ended': True,\n",
       "  'gender': 'Female',\n",
       "  'gid': '420ca290-76c5-41af-999e-564d7c71f1a7',\n",
       "  'id': 701492,\n",
       "  'name': 'Queen',\n",
       "  'sort_name': 'Queen',\n",
       "  'tags': [{'count': 1, 'value': 'kamen rider w'},\n",
       "   {'count': 1, 'value': 'related-akb48'}],\n",
       "  'type': 'Character'},\n",
       " {'_id': ObjectId('5a37be0a8d417a001590f133'),\n",
       "  'aliases': [{'name': '女王', 'sort_name': '女王'}],\n",
       "  'area': 'United Kingdom',\n",
       "  'begin': {'date': 27, 'month': 6, 'year': 1970},\n",
       "  'ended': True,\n",
       "  'gid': '0383dadf-2a4e-4d10-a46a-e9e041da8eb3',\n",
       "  'id': 192,\n",
       "  'name': 'Queen',\n",
       "  'rating': {'count': 24, 'value': 92},\n",
       "  'sort_name': 'Queen',\n",
       "  'tags': [{'count': 2, 'value': 'hard rock'},\n",
       "   {'count': 1, 'value': '70s'},\n",
       "   {'count': 1, 'value': 'queen family'},\n",
       "   {'count': 1, 'value': '90s'},\n",
       "   {'count': 1, 'value': '80s'},\n",
       "   {'count': 1, 'value': 'glam rock'},\n",
       "   {'count': 4, 'value': 'british'},\n",
       "   {'count': 1, 'value': 'english'},\n",
       "   {'count': 2, 'value': 'uk'},\n",
       "   {'count': 1, 'value': 'pop/rock'},\n",
       "   {'count': 1, 'value': 'pop-rock'},\n",
       "   {'count': 1, 'value': 'britannique'},\n",
       "   {'count': 1, 'value': 'classic pop and rock'},\n",
       "   {'count': 1, 'value': 'queen'},\n",
       "   {'count': 1, 'value': 'united kingdom'},\n",
       "   {'count': 1, 'value': 'langham 1 studio bbc'},\n",
       "   {'count': 1, 'value': 'kind of magic'},\n",
       "   {'count': 1, 'value': 'band'},\n",
       "   {'count': 6, 'value': 'rock'},\n",
       "   {'count': 1, 'value': 'platinum'}],\n",
       "  'type': 'Group'},\n",
       " {'_id': ObjectId('5a37be0b8d417a001592ab8b'),\n",
       "  'ended': True,\n",
       "  'gid': '5eecaf18-02ec-47af-a4f2-7831db373419',\n",
       "  'id': 992994,\n",
       "  'name': 'Queen',\n",
       "  'sort_name': 'Queen'},\n",
       " {'_id': ObjectId('5a37d8dd8d417a00a3f19800'),\n",
       "  'aliases': [{'name': 'Queen', 'sort_name': 'Queen'}],\n",
       "  'area': 'Japan',\n",
       "  'ended': True,\n",
       "  'gender': 'Female',\n",
       "  'gid': '420ca290-76c5-41af-999e-564d7c71f1a7',\n",
       "  'id': 701492,\n",
       "  'name': 'Queen',\n",
       "  'sort_name': 'Queen',\n",
       "  'tags': [{'count': 1, 'value': 'kamen rider w'},\n",
       "   {'count': 1, 'value': 'related-akb48'}],\n",
       "  'type': 'Character'},\n",
       " {'_id': ObjectId('5a37d8de8d417a00a3f25eac'),\n",
       "  'aliases': [{'name': '女王', 'sort_name': '女王'}],\n",
       "  'area': 'United Kingdom',\n",
       "  'begin': {'date': 27, 'month': 6, 'year': 1970},\n",
       "  'ended': True,\n",
       "  'gid': '0383dadf-2a4e-4d10-a46a-e9e041da8eb3',\n",
       "  'id': 192,\n",
       "  'name': 'Queen',\n",
       "  'rating': {'count': 24, 'value': 92},\n",
       "  'sort_name': 'Queen',\n",
       "  'tags': [{'count': 2, 'value': 'hard rock'},\n",
       "   {'count': 1, 'value': '70s'},\n",
       "   {'count': 1, 'value': 'queen family'},\n",
       "   {'count': 1, 'value': '90s'},\n",
       "   {'count': 1, 'value': '80s'},\n",
       "   {'count': 1, 'value': 'glam rock'},\n",
       "   {'count': 4, 'value': 'british'},\n",
       "   {'count': 1, 'value': 'english'},\n",
       "   {'count': 2, 'value': 'uk'},\n",
       "   {'count': 1, 'value': 'pop/rock'},\n",
       "   {'count': 1, 'value': 'pop-rock'},\n",
       "   {'count': 1, 'value': 'britannique'},\n",
       "   {'count': 1, 'value': 'classic pop and rock'},\n",
       "   {'count': 1, 'value': 'queen'},\n",
       "   {'count': 1, 'value': 'united kingdom'},\n",
       "   {'count': 1, 'value': 'langham 1 studio bbc'},\n",
       "   {'count': 1, 'value': 'kind of magic'},\n",
       "   {'count': 1, 'value': 'band'},\n",
       "   {'count': 6, 'value': 'rock'},\n",
       "   {'count': 1, 'value': 'platinum'}],\n",
       "  'type': 'Group'},\n",
       " {'_id': ObjectId('5a37d8e08d417a00a3f41904'),\n",
       "  'ended': True,\n",
       "  'gid': '5eecaf18-02ec-47af-a4f2-7831db373419',\n",
       "  'id': 992994,\n",
       "  'name': 'Queen',\n",
       "  'sort_name': 'Queen'}]"
      ]
     },
     "execution_count": 9,
     "metadata": {},
     "output_type": "execute_result"
    }
   ],
   "source": [
    "# インタラクティブシェル使えって書いてあるけど、どうやったらnotebook内でインタラクティブシェル使えるのかわからないので省略\n",
    "list(collection.find({\"name\": \"Queen\"}))"
   ]
  },
  {
   "cell_type": "markdown",
   "metadata": {},
   "source": [
    "### 66. 検索件数の取得\n",
    "\n",
    "MongoDBのインタラクティブシェルを用いて，活動場所が「Japan」となっているアーティスト数を求めよ"
   ]
  },
  {
   "cell_type": "code",
   "execution_count": 10,
   "metadata": {},
   "outputs": [
    {
     "data": {
      "text/plain": [
       "45642"
      ]
     },
     "execution_count": 10,
     "metadata": {},
     "output_type": "execute_result"
    }
   ],
   "source": [
    "collection.find({\"area\": \"Japan\"}).count()"
   ]
  },
  {
   "cell_type": "markdown",
   "metadata": {},
   "source": [
    "### 67. 複数のドキュメントの取得\n",
    "\n",
    "特定の（指定した）別名を持つアーティストを検索せよ．"
   ]
  },
  {
   "cell_type": "code",
   "execution_count": 11,
   "metadata": {},
   "outputs": [
    {
     "data": {
      "text/plain": [
       "[{'_id': ObjectId('5a37bdfe8d417a001586f368'),\n",
       "  'aliases': [{'name': 'Silhouettes', 'sort_name': 'Silhouettes'},\n",
       "   {'name': 'The Sihouettes', 'sort_name': 'The Sihouettes'}],\n",
       "  'area': 'United States',\n",
       "  'begin': {'year': 1956},\n",
       "  'end': {'year': 1993},\n",
       "  'ended': True,\n",
       "  'gid': 'ca3f3ee1-c4a7-4bac-a16a-0b888a396c6b',\n",
       "  'id': 101060,\n",
       "  'name': 'The Silhouettes',\n",
       "  'sort_name': 'Silhouettes, The',\n",
       "  'type': 'Group'},\n",
       " {'_id': ObjectId('5a37d8d38d417a00a3e860e1'),\n",
       "  'aliases': [{'name': 'Silhouettes', 'sort_name': 'Silhouettes'},\n",
       "   {'name': 'The Sihouettes', 'sort_name': 'The Sihouettes'}],\n",
       "  'area': 'United States',\n",
       "  'begin': {'year': 1956},\n",
       "  'end': {'year': 1993},\n",
       "  'ended': True,\n",
       "  'gid': 'ca3f3ee1-c4a7-4bac-a16a-0b888a396c6b',\n",
       "  'id': 101060,\n",
       "  'name': 'The Silhouettes',\n",
       "  'sort_name': 'Silhouettes, The',\n",
       "  'type': 'Group'}]"
      ]
     },
     "execution_count": 11,
     "metadata": {},
     "output_type": "execute_result"
    }
   ],
   "source": [
    "# aliasesに別名が入ってる\n",
    "list(collection.find({\"aliases.name\": \"Silhouettes\"}))"
   ]
  },
  {
   "cell_type": "markdown",
   "metadata": {},
   "source": [
    "### 68. ソート\n",
    "\n",
    "\"dance\"というタグを付与されたアーティストの中でレーティングの投票数が多いアーティスト・トップ10を求めよ．"
   ]
  },
  {
   "cell_type": "code",
   "execution_count": 12,
   "metadata": {},
   "outputs": [
    {
     "data": {
      "text/plain": [
       "[{'_id': ObjectId('5a37be0a8d417a0015920484'),\n",
       "  'area': 'United States',\n",
       "  'begin': {'date': 16, 'month': 8, 'year': 1958},\n",
       "  'ended': True,\n",
       "  'gender': 'Female',\n",
       "  'gid': '79239441-bfd5-4981-a70c-55c3f15c1287',\n",
       "  'id': 89,\n",
       "  'name': 'Madonna',\n",
       "  'rating': {'count': 26, 'value': 88},\n",
       "  'sort_name': 'Madonna',\n",
       "  'tags': [{'count': 1, 'value': 'dance-pop'},\n",
       "   {'count': 1, 'value': 'electropop'},\n",
       "   {'count': 1, 'value': 'tell me'},\n",
       "   {'count': 1, 'value': 'pop and chart'},\n",
       "   {'count': 1, 'value': 'multiple ipi'},\n",
       "   {'count': 1, 'value': 'electronic'},\n",
       "   {'count': 1, 'value': 'américain'},\n",
       "   {'count': 1, 'value': 'usa'},\n",
       "   {'count': 1, 'value': 'singer'},\n",
       "   {'count': 1, 'value': 'chanteur'},\n",
       "   {'count': 1, 'value': 'american'},\n",
       "   {'count': 4, 'value': 'pop'},\n",
       "   {'count': 1, 'value': 'greatest hits'},\n",
       "   {'count': 1, 'value': 'dance'}],\n",
       "  'type': 'Person'},\n",
       " {'_id': ObjectId('5a37d8df8d417a00a3f371fd'),\n",
       "  'area': 'United States',\n",
       "  'begin': {'date': 16, 'month': 8, 'year': 1958},\n",
       "  'ended': True,\n",
       "  'gender': 'Female',\n",
       "  'gid': '79239441-bfd5-4981-a70c-55c3f15c1287',\n",
       "  'id': 89,\n",
       "  'name': 'Madonna',\n",
       "  'rating': {'count': 26, 'value': 88},\n",
       "  'sort_name': 'Madonna',\n",
       "  'tags': [{'count': 1, 'value': 'dance-pop'},\n",
       "   {'count': 1, 'value': 'electropop'},\n",
       "   {'count': 1, 'value': 'tell me'},\n",
       "   {'count': 1, 'value': 'pop and chart'},\n",
       "   {'count': 1, 'value': 'multiple ipi'},\n",
       "   {'count': 1, 'value': 'electronic'},\n",
       "   {'count': 1, 'value': 'américain'},\n",
       "   {'count': 1, 'value': 'usa'},\n",
       "   {'count': 1, 'value': 'singer'},\n",
       "   {'count': 1, 'value': 'chanteur'},\n",
       "   {'count': 1, 'value': 'american'},\n",
       "   {'count': 4, 'value': 'pop'},\n",
       "   {'count': 1, 'value': 'greatest hits'},\n",
       "   {'count': 1, 'value': 'dance'}],\n",
       "  'type': 'Person'},\n",
       " {'_id': ObjectId('5a37be0a8d417a0015912e0e'),\n",
       "  'aliases': [{'name': 'Björk Gudmundsdottir',\n",
       "    'sort_name': 'Björk Gudmundsdottir'},\n",
       "   {'name': 'Björk Gudmudsdóttir', 'sort_name': 'Björk Gudmudsdóttir'},\n",
       "   {'name': 'Bj rk', 'sort_name': 'Bj rk'},\n",
       "   {'name': 'BjÃ¶rk', 'sort_name': 'BjÃ¶rk'},\n",
       "   {'name': 'Björk Guðmundsdóttir', 'sort_name': 'Björk Guðmundsdóttir'},\n",
       "   {'name': 'Biork', 'sort_name': 'Biork'},\n",
       "   {'name': 'Bjõrk', 'sort_name': 'Bjõrk'},\n",
       "   {'name': 'Bjørk', 'sort_name': 'Bjørk'},\n",
       "   {'name': 'Bjцrk', 'sort_name': 'Bjцrk'},\n",
       "   {'name': 'Bjork', 'sort_name': 'Bjork'}],\n",
       "  'area': 'Iceland',\n",
       "  'begin': {'date': 21, 'month': 11, 'year': 1965},\n",
       "  'ended': True,\n",
       "  'gender': 'Female',\n",
       "  'gid': '87c5dedd-371d-4a53-9f7f-80522fb7f3cb',\n",
       "  'id': 1022,\n",
       "  'name': 'Björk',\n",
       "  'rating': {'count': 23, 'value': 84},\n",
       "  'sort_name': 'Björk',\n",
       "  'tags': [{'count': 1, 'value': 'soundtrack'},\n",
       "   {'count': 2, 'value': 'ambient'},\n",
       "   {'count': 1, 'value': 'islande'},\n",
       "   {'count': 1, 'value': 'trip-hop'},\n",
       "   {'count': 1, 'value': '90s'},\n",
       "   {'count': 1, 'value': 'islandais'},\n",
       "   {'count': 1, 'value': '2000'},\n",
       "   {'count': 3, 'value': 'experimental'},\n",
       "   {'count': 1, 'value': 'dance'},\n",
       "   {'count': 1, 'value': 'idm'},\n",
       "   {'count': 1, 'value': 'rock and indie'},\n",
       "   {'count': 1, 'value': '10s'},\n",
       "   {'count': 2, 'value': 'alternative'},\n",
       "   {'count': 7, 'value': 'icelandic'},\n",
       "   {'count': 1, 'value': 'multiple ipi'},\n",
       "   {'count': 1, 'value': 'baroque pop'},\n",
       "   {'count': 2, 'value': 'jazz'},\n",
       "   {'count': 1, 'value': 'pop'},\n",
       "   {'count': 2, 'value': 'electronica'},\n",
       "   {'count': 1, 'value': '00s'},\n",
       "   {'count': 3, 'value': 'electronic'},\n",
       "   {'count': 3, 'value': 'iceland'},\n",
       "   {'count': 1, 'value': 'art pop'},\n",
       "   {'count': 1, 'value': 'progressive pop'},\n",
       "   {'count': 1, 'value': 'a cappella'},\n",
       "   {'count': 1, 'value': 'trip hop'},\n",
       "   {'count': 1, 'value': 'whimsically inclined'}],\n",
       "  'type': 'Person'},\n",
       " {'_id': ObjectId('5a37be0d8d417a001594614f'),\n",
       "  'aliases': [{'name': 'Prodigy', 'sort_name': 'Prodigy'},\n",
       "   {'name': 'The Prodigy Vs. The Prodigy',\n",
       "    'sort_name': 'The Prodigy Vs. The Prodigy'}],\n",
       "  'area': 'United Kingdom',\n",
       "  'begin': {'year': 1990},\n",
       "  'ended': True,\n",
       "  'gid': '4a4ee089-93b1-4470-af9a-6ff575d32704',\n",
       "  'id': 44954,\n",
       "  'name': 'The Prodigy',\n",
       "  'rating': {'count': 23, 'value': 90},\n",
       "  'sort_name': 'Prodigy, The',\n",
       "  'tags': [{'count': 6, 'value': 'big beat'},\n",
       "   {'count': 1, 'value': 'english'},\n",
       "   {'count': 3, 'value': 'british'},\n",
       "   {'count': 1, 'value': 'industrial'},\n",
       "   {'count': 1, 'value': 'dance-punk'},\n",
       "   {'count': 2, 'value': 'uk'},\n",
       "   {'count': 2, 'value': 'breakbeat hardcore'},\n",
       "   {'count': 1, 'value': 'electropunk'},\n",
       "   {'count': 1, 'value': 'britannique'},\n",
       "   {'count': 1, 'value': 'electronica'},\n",
       "   {'count': 1, 'value': '2005'},\n",
       "   {'count': 6, 'value': 'electronic'},\n",
       "   {'count': 1, 'value': 'dance'},\n",
       "   {'count': 1, 'value': 'alternative rock'},\n",
       "   {'count': 1, 'value': 'dance and electronica'},\n",
       "   {'count': 1, 'value': 'rave'},\n",
       "   {'count': 2, 'value': 'hardcore'},\n",
       "   {'count': 1, 'value': 'rock'},\n",
       "   {'count': 1, 'value': 'breakbeat'},\n",
       "   {'count': 1, 'value': 'electro'},\n",
       "   {'count': 2, 'value': 'techno'}],\n",
       "  'type': 'Group'},\n",
       " {'_id': ObjectId('5a37d8de8d417a00a3f29b87'),\n",
       "  'aliases': [{'name': 'Björk Gudmundsdottir',\n",
       "    'sort_name': 'Björk Gudmundsdottir'},\n",
       "   {'name': 'Björk Gudmudsdóttir', 'sort_name': 'Björk Gudmudsdóttir'},\n",
       "   {'name': 'Bj rk', 'sort_name': 'Bj rk'},\n",
       "   {'name': 'BjÃ¶rk', 'sort_name': 'BjÃ¶rk'},\n",
       "   {'name': 'Björk Guðmundsdóttir', 'sort_name': 'Björk Guðmundsdóttir'},\n",
       "   {'name': 'Biork', 'sort_name': 'Biork'},\n",
       "   {'name': 'Bjõrk', 'sort_name': 'Bjõrk'},\n",
       "   {'name': 'Bjørk', 'sort_name': 'Bjørk'},\n",
       "   {'name': 'Bjцrk', 'sort_name': 'Bjцrk'},\n",
       "   {'name': 'Bjork', 'sort_name': 'Bjork'}],\n",
       "  'area': 'Iceland',\n",
       "  'begin': {'date': 21, 'month': 11, 'year': 1965},\n",
       "  'ended': True,\n",
       "  'gender': 'Female',\n",
       "  'gid': '87c5dedd-371d-4a53-9f7f-80522fb7f3cb',\n",
       "  'id': 1022,\n",
       "  'name': 'Björk',\n",
       "  'rating': {'count': 23, 'value': 84},\n",
       "  'sort_name': 'Björk',\n",
       "  'tags': [{'count': 1, 'value': 'soundtrack'},\n",
       "   {'count': 2, 'value': 'ambient'},\n",
       "   {'count': 1, 'value': 'islande'},\n",
       "   {'count': 1, 'value': 'trip-hop'},\n",
       "   {'count': 1, 'value': '90s'},\n",
       "   {'count': 1, 'value': 'islandais'},\n",
       "   {'count': 1, 'value': '2000'},\n",
       "   {'count': 3, 'value': 'experimental'},\n",
       "   {'count': 1, 'value': 'dance'},\n",
       "   {'count': 1, 'value': 'idm'},\n",
       "   {'count': 1, 'value': 'rock and indie'},\n",
       "   {'count': 1, 'value': '10s'},\n",
       "   {'count': 2, 'value': 'alternative'},\n",
       "   {'count': 7, 'value': 'icelandic'},\n",
       "   {'count': 1, 'value': 'multiple ipi'},\n",
       "   {'count': 1, 'value': 'baroque pop'},\n",
       "   {'count': 2, 'value': 'jazz'},\n",
       "   {'count': 1, 'value': 'pop'},\n",
       "   {'count': 2, 'value': 'electronica'},\n",
       "   {'count': 1, 'value': '00s'},\n",
       "   {'count': 3, 'value': 'electronic'},\n",
       "   {'count': 3, 'value': 'iceland'},\n",
       "   {'count': 1, 'value': 'art pop'},\n",
       "   {'count': 1, 'value': 'progressive pop'},\n",
       "   {'count': 1, 'value': 'a cappella'},\n",
       "   {'count': 1, 'value': 'trip hop'},\n",
       "   {'count': 1, 'value': 'whimsically inclined'}],\n",
       "  'type': 'Person'},\n",
       " {'_id': ObjectId('5a37d8e18d417a00a3f5cec8'),\n",
       "  'aliases': [{'name': 'Prodigy', 'sort_name': 'Prodigy'},\n",
       "   {'name': 'The Prodigy Vs. The Prodigy',\n",
       "    'sort_name': 'The Prodigy Vs. The Prodigy'}],\n",
       "  'area': 'United Kingdom',\n",
       "  'begin': {'year': 1990},\n",
       "  'ended': True,\n",
       "  'gid': '4a4ee089-93b1-4470-af9a-6ff575d32704',\n",
       "  'id': 44954,\n",
       "  'name': 'The Prodigy',\n",
       "  'rating': {'count': 23, 'value': 90},\n",
       "  'sort_name': 'Prodigy, The',\n",
       "  'tags': [{'count': 6, 'value': 'big beat'},\n",
       "   {'count': 1, 'value': 'english'},\n",
       "   {'count': 3, 'value': 'british'},\n",
       "   {'count': 1, 'value': 'industrial'},\n",
       "   {'count': 1, 'value': 'dance-punk'},\n",
       "   {'count': 2, 'value': 'uk'},\n",
       "   {'count': 2, 'value': 'breakbeat hardcore'},\n",
       "   {'count': 1, 'value': 'electropunk'},\n",
       "   {'count': 1, 'value': 'britannique'},\n",
       "   {'count': 1, 'value': 'electronica'},\n",
       "   {'count': 1, 'value': '2005'},\n",
       "   {'count': 6, 'value': 'electronic'},\n",
       "   {'count': 1, 'value': 'dance'},\n",
       "   {'count': 1, 'value': 'alternative rock'},\n",
       "   {'count': 1, 'value': 'dance and electronica'},\n",
       "   {'count': 1, 'value': 'rave'},\n",
       "   {'count': 2, 'value': 'hardcore'},\n",
       "   {'count': 1, 'value': 'rock'},\n",
       "   {'count': 1, 'value': 'breakbeat'},\n",
       "   {'count': 1, 'value': 'electro'},\n",
       "   {'count': 2, 'value': 'techno'}],\n",
       "  'type': 'Group'},\n",
       " {'_id': ObjectId('5a37be0d8d417a0015948af8'),\n",
       "  'aliases': [{'name': '蕾哈娜', 'sort_name': '蕾哈娜'},\n",
       "   {'name': 'Rhianna', 'sort_name': 'Rhianna'},\n",
       "   {'name': 'Riannah', 'sort_name': 'Riannah'},\n",
       "   {'name': 'Robyn Rihanna Fenty', 'sort_name': 'Fenty, Robyn Rihanna'},\n",
       "   {'name': 'Rihanna', 'sort_name': 'Rihanna'}],\n",
       "  'area': 'New York',\n",
       "  'begin': {'date': 20, 'month': 2, 'year': 1988},\n",
       "  'ended': True,\n",
       "  'gender': 'Female',\n",
       "  'gid': '73e5e69d-3554-40d8-8516-00cb38737a1c',\n",
       "  'id': 262731,\n",
       "  'name': 'Rihanna',\n",
       "  'rating': {'count': 15, 'value': 68},\n",
       "  'sort_name': 'Rihanna',\n",
       "  'tags': [{'count': 1, 'value': 'rnb'},\n",
       "   {'count': 3, 'value': 'barbadian'},\n",
       "   {'count': 1, 'value': 'pop and chart'},\n",
       "   {'count': 1, 'value': 'r&b'},\n",
       "   {'count': 2, 'value': 'dancehall'},\n",
       "   {'count': 1, 'value': 'reggae'},\n",
       "   {'count': 2, 'value': 'hip hop'},\n",
       "   {'count': 1, 'value': 'dance'},\n",
       "   {'count': 2, 'value': 'dance-pop'},\n",
       "   {'count': 4, 'value': 'pop'},\n",
       "   {'count': 1, 'value': 'barbade'},\n",
       "   {'count': 1, 'value': 'barbadien'},\n",
       "   {'count': 1, 'value': 'contemporary r b'},\n",
       "   {'count': 1, 'value': 'barbados'},\n",
       "   {'count': 1, 'value': 'rehab'}],\n",
       "  'type': 'Person'},\n",
       " {'_id': ObjectId('5a37d8e18d417a00a3f5f871'),\n",
       "  'aliases': [{'name': '蕾哈娜', 'sort_name': '蕾哈娜'},\n",
       "   {'name': 'Rhianna', 'sort_name': 'Rhianna'},\n",
       "   {'name': 'Riannah', 'sort_name': 'Riannah'},\n",
       "   {'name': 'Robyn Rihanna Fenty', 'sort_name': 'Fenty, Robyn Rihanna'},\n",
       "   {'name': 'Rihanna', 'sort_name': 'Rihanna'}],\n",
       "  'area': 'New York',\n",
       "  'begin': {'date': 20, 'month': 2, 'year': 1988},\n",
       "  'ended': True,\n",
       "  'gender': 'Female',\n",
       "  'gid': '73e5e69d-3554-40d8-8516-00cb38737a1c',\n",
       "  'id': 262731,\n",
       "  'name': 'Rihanna',\n",
       "  'rating': {'count': 15, 'value': 68},\n",
       "  'sort_name': 'Rihanna',\n",
       "  'tags': [{'count': 1, 'value': 'rnb'},\n",
       "   {'count': 3, 'value': 'barbadian'},\n",
       "   {'count': 1, 'value': 'pop and chart'},\n",
       "   {'count': 1, 'value': 'r&b'},\n",
       "   {'count': 2, 'value': 'dancehall'},\n",
       "   {'count': 1, 'value': 'reggae'},\n",
       "   {'count': 2, 'value': 'hip hop'},\n",
       "   {'count': 1, 'value': 'dance'},\n",
       "   {'count': 2, 'value': 'dance-pop'},\n",
       "   {'count': 4, 'value': 'pop'},\n",
       "   {'count': 1, 'value': 'barbade'},\n",
       "   {'count': 1, 'value': 'barbadien'},\n",
       "   {'count': 1, 'value': 'contemporary r b'},\n",
       "   {'count': 1, 'value': 'barbados'},\n",
       "   {'count': 1, 'value': 'rehab'}],\n",
       "  'type': 'Person'},\n",
       " {'_id': ObjectId('5a37be018d417a001589211c'),\n",
       "  'aliases': [{'name': 'Bretney Spears', 'sort_name': 'Bretney Spears'},\n",
       "   {'name': 'B. Spears', 'sort_name': 'B. Spears'},\n",
       "   {'name': 'Brittany Spears', 'sort_name': 'Brittany Spears'},\n",
       "   {'name': 'Briteny Spears', 'sort_name': 'Briteny Spears'},\n",
       "   {'name': 'Brittney Spears', 'sort_name': 'Brittney Spears'},\n",
       "   {'name': 'Britney Jean Spears', 'sort_name': 'Spears, Britney Jean'}],\n",
       "  'area': 'United States',\n",
       "  'begin': {'date': 2, 'month': 12, 'year': 1981},\n",
       "  'ended': True,\n",
       "  'gender': 'Female',\n",
       "  'gid': '45a663b5-b1cb-4a91-bff6-2bef7bbfdd76',\n",
       "  'id': 791,\n",
       "  'name': 'Britney Spears',\n",
       "  'rating': {'count': 13, 'value': 83},\n",
       "  'sort_name': 'Spears, Britney',\n",
       "  'tags': [{'count': 7, 'value': 'pop'},\n",
       "   {'count': 1, 'value': 'américain'},\n",
       "   {'count': 1, 'value': 'electropop'},\n",
       "   {'count': 1, 'value': 'usa'},\n",
       "   {'count': 1, 'value': 'pop and chart'},\n",
       "   {'count': 1, 'value': 'dance-pop'},\n",
       "   {'count': 1, 'value': 'urban pop'},\n",
       "   {'count': 1, 'value': 'if you seek amy'},\n",
       "   {'count': 1, 'value': 'dance'},\n",
       "   {'count': 2, 'value': 'american'}],\n",
       "  'type': 'Person'},\n",
       " {'_id': ObjectId('5a37d8d68d417a00a3ea8e95'),\n",
       "  'aliases': [{'name': 'Bretney Spears', 'sort_name': 'Bretney Spears'},\n",
       "   {'name': 'B. Spears', 'sort_name': 'B. Spears'},\n",
       "   {'name': 'Brittany Spears', 'sort_name': 'Brittany Spears'},\n",
       "   {'name': 'Briteny Spears', 'sort_name': 'Briteny Spears'},\n",
       "   {'name': 'Brittney Spears', 'sort_name': 'Brittney Spears'},\n",
       "   {'name': 'Britney Jean Spears', 'sort_name': 'Spears, Britney Jean'}],\n",
       "  'area': 'United States',\n",
       "  'begin': {'date': 2, 'month': 12, 'year': 1981},\n",
       "  'ended': True,\n",
       "  'gender': 'Female',\n",
       "  'gid': '45a663b5-b1cb-4a91-bff6-2bef7bbfdd76',\n",
       "  'id': 791,\n",
       "  'name': 'Britney Spears',\n",
       "  'rating': {'count': 13, 'value': 83},\n",
       "  'sort_name': 'Spears, Britney',\n",
       "  'tags': [{'count': 7, 'value': 'pop'},\n",
       "   {'count': 1, 'value': 'américain'},\n",
       "   {'count': 1, 'value': 'electropop'},\n",
       "   {'count': 1, 'value': 'usa'},\n",
       "   {'count': 1, 'value': 'pop and chart'},\n",
       "   {'count': 1, 'value': 'dance-pop'},\n",
       "   {'count': 1, 'value': 'urban pop'},\n",
       "   {'count': 1, 'value': 'if you seek amy'},\n",
       "   {'count': 1, 'value': 'dance'},\n",
       "   {'count': 2, 'value': 'american'}],\n",
       "  'type': 'Person'}]"
      ]
     },
     "execution_count": 12,
     "metadata": {},
     "output_type": "execute_result"
    }
   ],
   "source": [
    "# tags.valueがdanceのもので絞り込み\n",
    "dance_collection = collection.find({\"tags.value\": \"dance\"})\n",
    "\n",
    "# rating.countを降順でソートし最初の10個を取ってくる\n",
    "list(dance_collection.sort(\"rating.count\", pymongo.DESCENDING))[:10]"
   ]
  },
  {
   "cell_type": "markdown",
   "metadata": {},
   "source": [
    "### 69. Webアプリケーションの作成\n",
    "\n",
    "ユーザから入力された検索条件に合致するアーティストの情報を表示するWebアプリケーションを作成せよ．アーティスト名，アーティストの別名，タグ等で検索条件を指定し，アーティスト情報のリストをレーティングの高い順などで整列して表示せよ．"
   ]
  },
  {
   "cell_type": "markdown",
   "metadata": {},
   "source": [
    "_省略!!!!!!!!_"
   ]
  },
  {
   "cell_type": "code",
   "execution_count": null,
   "metadata": {},
   "outputs": [],
   "source": []
  }
 ],
 "metadata": {
  "kernelspec": {
   "display_name": "Python 3",
   "language": "python",
   "name": "python3"
  },
  "language_info": {
   "codemirror_mode": {
    "name": "ipython",
    "version": 3
   },
   "file_extension": ".py",
   "mimetype": "text/x-python",
   "name": "python",
   "nbconvert_exporter": "python",
   "pygments_lexer": "ipython3",
   "version": "3.6.3"
  }
 },
 "nbformat": 4,
 "nbformat_minor": 2
}
