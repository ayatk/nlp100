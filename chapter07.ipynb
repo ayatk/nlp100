{
 "cells": [
  {
   "cell_type": "markdown",
   "metadata": {},
   "source": [
    "# 第7章: データベース\n",
    "\n",
    "artist.json.gzは，オープンな音楽データベースMusicBrainzの中で，アーティストに関するものをJSON形式に変換し，gzip形式で圧縮したファイルである．このファイルには，1アーティストに関する情報が1行にJSON形式で格納されている．JSON形式の概要は以下の通りである．"
   ]
  },
  {
   "cell_type": "markdown",
   "metadata": {},
   "source": [
    "### 60. KVSの構築\n",
    "\n",
    "Key-Value-Store (KVS) を用い，アーティスト名（name）から活動場所（area）を検索するためのデータベースを構築せよ．"
   ]
  },
  {
   "cell_type": "code",
   "execution_count": 1,
   "metadata": {},
   "outputs": [
    {
     "data": {
      "text/plain": [
       "[{'ended': True,\n",
       "  'gid': '8972b1c1-6482-4750-b51f-596d2edea8b1',\n",
       "  'id': 805192,\n",
       "  'name': 'WIK▲N',\n",
       "  'sort_name': 'WIK▲N',\n",
       "  'tags': [{'count': 1, 'value': 'sillyname'}]},\n",
       " {'ended': True,\n",
       "  'gid': 'b4f76788-7e6f-41b7-ac7b-dfb67f66282e',\n",
       "  'id': 578352,\n",
       "  'name': 'Gustav Ruppke',\n",
       "  'sort_name': 'Gustav Ruppke',\n",
       "  'type': 'Person'},\n",
       " {'ended': True,\n",
       "  'gid': '49add228-eac5-4de8-836c-d75cde7369c3',\n",
       "  'id': 371203,\n",
       "  'name': 'Pete Moutso',\n",
       "  'sort_name': 'Moutso, Pete',\n",
       "  'type': 'Person'},\n",
       " {'ended': True,\n",
       "  'gid': 'c112a400-af49-4665-8bba-741531d962a1',\n",
       "  'id': 273232,\n",
       "  'name': 'Zachary',\n",
       "  'sort_name': 'Zachary'},\n",
       " {'ended': True,\n",
       "  'gid': 'c42eed94-e233-44e2-82b8-3ed6dd9bf318',\n",
       "  'id': 153193,\n",
       "  'name': 'The High Level Ranters',\n",
       "  'sort_name': 'High Level Ranters, The',\n",
       "  'type': 'Group'},\n",
       " {'aliases': [{'name': 'Silhouettes', 'sort_name': 'Silhouettes'},\n",
       "   {'name': 'The Sihouettes', 'sort_name': 'The Sihouettes'}],\n",
       "  'area': 'United States',\n",
       "  'begin': {'year': 1956},\n",
       "  'end': {'year': 1993},\n",
       "  'ended': True,\n",
       "  'gid': 'ca3f3ee1-c4a7-4bac-a16a-0b888a396c6b',\n",
       "  'id': 101060,\n",
       "  'name': 'The Silhouettes',\n",
       "  'sort_name': 'Silhouettes, The',\n",
       "  'type': 'Group'},\n",
       " {'ended': True,\n",
       "  'gid': '7b4a548e-a01a-49b7-82e7-b49efeb9732c',\n",
       "  'id': 145773,\n",
       "  'name': 'Aric Leavitt',\n",
       "  'sort_name': 'Leavitt, Aric'},\n",
       " {'ended': True,\n",
       "  'gid': '60aca66f-e91a-4cb5-9308-b6e293cd833e',\n",
       "  'id': 1076328,\n",
       "  'name': 'Fonograff',\n",
       "  'sort_name': 'Fonograff'},\n",
       " {'area': 'United States',\n",
       "  'ended': True,\n",
       "  'gender': 'Male',\n",
       "  'gid': '3e1bd546-d2a7-49cb-b38d-d70904a1d719',\n",
       "  'id': 1172876,\n",
       "  'name': 'Al Street',\n",
       "  'sort_name': 'Street, Al',\n",
       "  'type': 'Person'},\n",
       " {'ended': True,\n",
       "  'gid': 'df120895-f6c6-4a66-b9cf-73350f0beb61',\n",
       "  'id': 220155,\n",
       "  'name': 'Love .45',\n",
       "  'sort_name': 'Love .45'}]"
      ]
     },
     "execution_count": 1,
     "metadata": {},
     "output_type": "execute_result"
    }
   ],
   "source": [
    "import gzip\n",
    "import json\n",
    "\n",
    "artists = []\n",
    "with gzip.open('./data/chapter07/artist.json.gz', 'r') as f:\n",
    "    while True:\n",
    "        line = f.readline()\n",
    "        if not line:\n",
    "            break\n",
    "        artists.append(json.loads(line))\n",
    "        \n",
    "artists[:10]"
   ]
  },
  {
   "cell_type": "code",
   "execution_count": 2,
   "metadata": {},
   "outputs": [
    {
     "data": {
      "text/plain": [
       "[b'Cappella Musicale di San Petronio di Bologna_742919',\n",
       " b'52nd Street_127692',\n",
       " b'Yoga Fire_653096',\n",
       " b'Chris Andrew Robinson_966722',\n",
       " b'Katatura_825282',\n",
       " b'Mentalease_1096482',\n",
       " b'Janek Tischler_1089186',\n",
       " b'Prophecy_625887',\n",
       " b'Mean Streak_828293',\n",
       " b'Bois Noirs_993965']"
      ]
     },
     "execution_count": 2,
     "metadata": {},
     "output_type": "execute_result"
    }
   ],
   "source": [
    "import redis\n",
    "\n",
    "# redis サーバの設定\n",
    "# ホスト名はDocke Composeで設定した名前を指定するとDocker側で名前解決してくれる\n",
    "r = redis.StrictRedis(host='redis', port=6379, db=0)\n",
    "pipe = r.pipeline()\n",
    "pipe.flushall()\n",
    "for i in artists:\n",
    "    if 'area' in i.keys():\n",
    "        # 名前の重複に対応するため名前とidをアンダーバーでつなげたものをキーとした\n",
    "        pipe.set(i['name'] + \"_\" + str(i['id']), i['area'])\n",
    "\n",
    "pipe.keys()\n",
    "pipe.execute()[-1][:10]"
   ]
  },
  {
   "cell_type": "markdown",
   "metadata": {},
   "source": [
    "### 61. KVSの検索\n",
    "\n",
    "60で構築したデータベースを用い，特定の（指定された）アーティストの活動場所を取得せよ．"
   ]
  },
  {
   "cell_type": "code",
   "execution_count": 3,
   "metadata": {},
   "outputs": [
    {
     "name": "stdout",
     "output_type": "stream",
     "text": [
      "Oasis_20660: United Kingdom\n",
      "Oasis_377879: United Kingdom\n",
      "Oasis_286198: United States\n"
     ]
    }
   ],
   "source": [
    "for i in r.keys(pattern='Oasis_*'):\n",
    "    print(i.decode('utf8') + \": \" + r.get(i).decode('utf8'))"
   ]
  },
  {
   "cell_type": "markdown",
   "metadata": {},
   "source": [
    "### 62. KVS内の反復処理\n",
    "\n",
    "60で構築したデータベースを用い，活動場所が「Japan」となっているアーティスト数を求めよ．"
   ]
  },
  {
   "cell_type": "code",
   "execution_count": 4,
   "metadata": {},
   "outputs": [
    {
     "data": {
      "text/plain": [
       "22821"
      ]
     },
     "execution_count": 4,
     "metadata": {},
     "output_type": "execute_result"
    }
   ],
   "source": [
    "len([i for i in r.keys() if r.get(i).decode('utf8') == \"Japan\"])"
   ]
  },
  {
   "cell_type": "markdown",
   "metadata": {},
   "source": [
    "### 63. オブジェクトを値に格納したKVS\n",
    "\n",
    "KVSを用い，アーティスト名（name）からタグと被タグ数（タグ付けされた回数）のリストを検索するためのデータベースを構築せよ．さらに，ここで構築したデータベースを用い，アーティスト名からタグと被タグ数を検索せよ．"
   ]
  },
  {
   "cell_type": "code",
   "execution_count": 5,
   "metadata": {},
   "outputs": [
    {
     "data": {
      "text/plain": [
       "[b'\\xe3\\x83\\x89\\xe3\\x83\\xa1\\xe3\\x83\\x8b\\xe3\\x82\\xb3\\xe3\\x83\\x89\\xe3\\x83\\xa2\\xe3\\x83\\xa9\\xe3\\x83\\xb3\\xe3\\x83\\x86_1153239',\n",
       " b'Orchester der Deutschen Oper Berlin_414265',\n",
       " b'Bouwe Dykstra_707059',\n",
       " b'Pina Carmirelli_409505',\n",
       " b'Geezer Butler_236738',\n",
       " b'AndyH_862437',\n",
       " b'Peter Parker_1176208',\n",
       " b'\\xe5\\xbc\\xb5\\xe8\\x89\\xbe\\xe5\\x98\\x89_146081',\n",
       " b'Pierre Chr\\xc3\\xa9tien_659976',\n",
       " b'Alvin \\xe2\\x80\\x9cSeeco\\xe2\\x80\\x9d Patterson_442811']"
      ]
     },
     "execution_count": 5,
     "metadata": {},
     "output_type": "execute_result"
    }
   ],
   "source": [
    "r_tags = redis.StrictRedis(host='redis', port=6379, db=1)\n",
    "tags_pipe = r_tags.pipeline()\n",
    "tags_pipe.flushall()\n",
    "for i in artists:\n",
    "    if 'tags' in i.keys():\n",
    "        for j in i['tags']:\n",
    "            tags_pipe.lpush(i['name'] + \"_\" + str(i['id']), j)\n",
    "\n",
    "tags_pipe.keys()\n",
    "tags_pipe.execute()[-1][:10]"
   ]
  },
  {
   "cell_type": "code",
   "execution_count": 6,
   "metadata": {},
   "outputs": [
    {
     "name": "stdout",
     "output_type": "stream",
     "text": [
      "choral: 1\n",
      "production music: 1\n"
     ]
    }
   ],
   "source": [
    "# タグ数と被タグ数\n",
    "for i in r_tags.lrange('Bouwe Dykstra_707059',0 ,-1):\n",
    "    tag = json.loads(i.decode('utf8').replace(\"'\", '\"'))\n",
    "    print(\"%s: %d\" % (tag['value'], tag['count']))"
   ]
  },
  {
   "cell_type": "markdown",
   "metadata": {},
   "source": [
    "### 64. MongoDBの構築\n",
    "\n",
    "アーティスト情報（artist.json.gz）をデータベースに登録せよ．さらに，次のフィールドでインデックスを作成せよ: name, aliases.name, tags.value, rating.value"
   ]
  },
  {
   "cell_type": "code",
   "execution_count": 7,
   "metadata": {},
   "outputs": [],
   "source": [
    "import pymongo\n",
    "\n",
    "# mongodb へのアクセスを確立\n",
    "mongo = pymongo.MongoClient('mongo', 27017)\n",
    "# DBの作成\n",
    "db = mongo.nlp100\n",
    "db.artists.drop()\n",
    "# コレクションの作成\n",
    "collection = db.artists"
   ]
  },
  {
   "cell_type": "markdown",
   "metadata": {},
   "source": [
    "コレクションに `artists` のオブジェクトをinsert"
   ]
  },
  {
   "cell_type": "code",
   "execution_count": 8,
   "metadata": {},
   "outputs": [
    {
     "data": {
      "text/plain": [
       "<pymongo.results.InsertManyResult at 0x7fdd70f46548>"
      ]
     },
     "execution_count": 8,
     "metadata": {},
     "output_type": "execute_result"
    }
   ],
   "source": [
    "# バルクインサートするぞい〜\n",
    "collection.insert_many(artists)"
   ]
  },
  {
   "cell_type": "markdown",
   "metadata": {},
   "source": [
    "### 65. MongoDBの検索\n",
    "\n",
    "MongoDBのインタラクティブシェルを用いて，\"Queen\"というアーティストに関する情報を取得せよ．さらに，これと同様の処理を行うプログラムを実装せよ．"
   ]
  },
  {
   "cell_type": "code",
   "execution_count": 9,
   "metadata": {},
   "outputs": [
    {
     "data": {
      "text/plain": [
       "[{'_id': ObjectId('5a3a0d1c06667e015a73d28a'),\n",
       "  'aliases': [{'name': 'Queen', 'sort_name': 'Queen'}],\n",
       "  'area': 'Japan',\n",
       "  'ended': True,\n",
       "  'gender': 'Female',\n",
       "  'gid': '420ca290-76c5-41af-999e-564d7c71f1a7',\n",
       "  'id': 701492,\n",
       "  'name': 'Queen',\n",
       "  'sort_name': 'Queen',\n",
       "  'tags': [{'count': 1, 'value': 'kamen rider w'},\n",
       "   {'count': 1, 'value': 'related-akb48'}],\n",
       "  'type': 'Character'},\n",
       " {'_id': ObjectId('5a3a0d1c06667e015a749936'),\n",
       "  'aliases': [{'name': '女王', 'sort_name': '女王'}],\n",
       "  'area': 'United Kingdom',\n",
       "  'begin': {'date': 27, 'month': 6, 'year': 1970},\n",
       "  'ended': True,\n",
       "  'gid': '0383dadf-2a4e-4d10-a46a-e9e041da8eb3',\n",
       "  'id': 192,\n",
       "  'name': 'Queen',\n",
       "  'rating': {'count': 24, 'value': 92},\n",
       "  'sort_name': 'Queen',\n",
       "  'tags': [{'count': 2, 'value': 'hard rock'},\n",
       "   {'count': 1, 'value': '70s'},\n",
       "   {'count': 1, 'value': 'queen family'},\n",
       "   {'count': 1, 'value': '90s'},\n",
       "   {'count': 1, 'value': '80s'},\n",
       "   {'count': 1, 'value': 'glam rock'},\n",
       "   {'count': 4, 'value': 'british'},\n",
       "   {'count': 1, 'value': 'english'},\n",
       "   {'count': 2, 'value': 'uk'},\n",
       "   {'count': 1, 'value': 'pop/rock'},\n",
       "   {'count': 1, 'value': 'pop-rock'},\n",
       "   {'count': 1, 'value': 'britannique'},\n",
       "   {'count': 1, 'value': 'classic pop and rock'},\n",
       "   {'count': 1, 'value': 'queen'},\n",
       "   {'count': 1, 'value': 'united kingdom'},\n",
       "   {'count': 1, 'value': 'langham 1 studio bbc'},\n",
       "   {'count': 1, 'value': 'kind of magic'},\n",
       "   {'count': 1, 'value': 'band'},\n",
       "   {'count': 6, 'value': 'rock'},\n",
       "   {'count': 1, 'value': 'platinum'}],\n",
       "  'type': 'Group'},\n",
       " {'_id': ObjectId('5a3a0d1e06667e015a76538e'),\n",
       "  'ended': True,\n",
       "  'gid': '5eecaf18-02ec-47af-a4f2-7831db373419',\n",
       "  'id': 992994,\n",
       "  'name': 'Queen',\n",
       "  'sort_name': 'Queen'}]"
      ]
     },
     "execution_count": 9,
     "metadata": {},
     "output_type": "execute_result"
    }
   ],
   "source": [
    "# インタラクティブシェル使えって書いてあるけど、どうやったらnotebook内でインタラクティブシェル使えるのかわからないので省略\n",
    "list(collection.find({\"name\": \"Queen\"}))"
   ]
  },
  {
   "cell_type": "markdown",
   "metadata": {},
   "source": [
    "### 66. 検索件数の取得\n",
    "\n",
    "MongoDBのインタラクティブシェルを用いて，活動場所が「Japan」となっているアーティスト数を求めよ"
   ]
  },
  {
   "cell_type": "code",
   "execution_count": 10,
   "metadata": {},
   "outputs": [
    {
     "data": {
      "text/plain": [
       "22821"
      ]
     },
     "execution_count": 10,
     "metadata": {},
     "output_type": "execute_result"
    }
   ],
   "source": [
    "collection.find({\"area\": \"Japan\"}).count()"
   ]
  },
  {
   "cell_type": "markdown",
   "metadata": {},
   "source": [
    "### 67. 複数のドキュメントの取得\n",
    "\n",
    "特定の（指定した）別名を持つアーティストを検索せよ．"
   ]
  },
  {
   "cell_type": "code",
   "execution_count": 11,
   "metadata": {},
   "outputs": [
    {
     "data": {
      "text/plain": [
       "[{'_id': ObjectId('5a3a0d1306667e015a6a9b6b'),\n",
       "  'aliases': [{'name': 'Silhouettes', 'sort_name': 'Silhouettes'},\n",
       "   {'name': 'The Sihouettes', 'sort_name': 'The Sihouettes'}],\n",
       "  'area': 'United States',\n",
       "  'begin': {'year': 1956},\n",
       "  'end': {'year': 1993},\n",
       "  'ended': True,\n",
       "  'gid': 'ca3f3ee1-c4a7-4bac-a16a-0b888a396c6b',\n",
       "  'id': 101060,\n",
       "  'name': 'The Silhouettes',\n",
       "  'sort_name': 'Silhouettes, The',\n",
       "  'type': 'Group'}]"
      ]
     },
     "execution_count": 11,
     "metadata": {},
     "output_type": "execute_result"
    }
   ],
   "source": [
    "# aliasesに別名が入ってる\n",
    "list(collection.find({\"aliases.name\": \"Silhouettes\"}))"
   ]
  },
  {
   "cell_type": "markdown",
   "metadata": {},
   "source": [
    "### 68. ソート\n",
    "\n",
    "\"dance\"というタグを付与されたアーティストの中でレーティングの投票数が多いアーティスト・トップ10を求めよ．"
   ]
  },
  {
   "cell_type": "code",
   "execution_count": 12,
   "metadata": {},
   "outputs": [
    {
     "data": {
      "text/plain": [
       "[{'_id': ObjectId('5a3a0d1d06667e015a75ac87'),\n",
       "  'area': 'United States',\n",
       "  'begin': {'date': 16, 'month': 8, 'year': 1958},\n",
       "  'ended': True,\n",
       "  'gender': 'Female',\n",
       "  'gid': '79239441-bfd5-4981-a70c-55c3f15c1287',\n",
       "  'id': 89,\n",
       "  'name': 'Madonna',\n",
       "  'rating': {'count': 26, 'value': 88},\n",
       "  'sort_name': 'Madonna',\n",
       "  'tags': [{'count': 1, 'value': 'dance-pop'},\n",
       "   {'count': 1, 'value': 'electropop'},\n",
       "   {'count': 1, 'value': 'tell me'},\n",
       "   {'count': 1, 'value': 'pop and chart'},\n",
       "   {'count': 1, 'value': 'multiple ipi'},\n",
       "   {'count': 1, 'value': 'electronic'},\n",
       "   {'count': 1, 'value': 'américain'},\n",
       "   {'count': 1, 'value': 'usa'},\n",
       "   {'count': 1, 'value': 'singer'},\n",
       "   {'count': 1, 'value': 'chanteur'},\n",
       "   {'count': 1, 'value': 'american'},\n",
       "   {'count': 4, 'value': 'pop'},\n",
       "   {'count': 1, 'value': 'greatest hits'},\n",
       "   {'count': 1, 'value': 'dance'}],\n",
       "  'type': 'Person'},\n",
       " {'_id': ObjectId('5a3a0d1c06667e015a74d611'),\n",
       "  'aliases': [{'name': 'Björk Gudmundsdottir',\n",
       "    'sort_name': 'Björk Gudmundsdottir'},\n",
       "   {'name': 'Björk Gudmudsdóttir', 'sort_name': 'Björk Gudmudsdóttir'},\n",
       "   {'name': 'Bj rk', 'sort_name': 'Bj rk'},\n",
       "   {'name': 'BjÃ¶rk', 'sort_name': 'BjÃ¶rk'},\n",
       "   {'name': 'Björk Guðmundsdóttir', 'sort_name': 'Björk Guðmundsdóttir'},\n",
       "   {'name': 'Biork', 'sort_name': 'Biork'},\n",
       "   {'name': 'Bjõrk', 'sort_name': 'Bjõrk'},\n",
       "   {'name': 'Bjørk', 'sort_name': 'Bjørk'},\n",
       "   {'name': 'Bjцrk', 'sort_name': 'Bjцrk'},\n",
       "   {'name': 'Bjork', 'sort_name': 'Bjork'}],\n",
       "  'area': 'Iceland',\n",
       "  'begin': {'date': 21, 'month': 11, 'year': 1965},\n",
       "  'ended': True,\n",
       "  'gender': 'Female',\n",
       "  'gid': '87c5dedd-371d-4a53-9f7f-80522fb7f3cb',\n",
       "  'id': 1022,\n",
       "  'name': 'Björk',\n",
       "  'rating': {'count': 23, 'value': 84},\n",
       "  'sort_name': 'Björk',\n",
       "  'tags': [{'count': 1, 'value': 'soundtrack'},\n",
       "   {'count': 2, 'value': 'ambient'},\n",
       "   {'count': 1, 'value': 'islande'},\n",
       "   {'count': 1, 'value': 'trip-hop'},\n",
       "   {'count': 1, 'value': '90s'},\n",
       "   {'count': 1, 'value': 'islandais'},\n",
       "   {'count': 1, 'value': '2000'},\n",
       "   {'count': 3, 'value': 'experimental'},\n",
       "   {'count': 1, 'value': 'dance'},\n",
       "   {'count': 1, 'value': 'idm'},\n",
       "   {'count': 1, 'value': 'rock and indie'},\n",
       "   {'count': 1, 'value': '10s'},\n",
       "   {'count': 2, 'value': 'alternative'},\n",
       "   {'count': 7, 'value': 'icelandic'},\n",
       "   {'count': 1, 'value': 'multiple ipi'},\n",
       "   {'count': 1, 'value': 'baroque pop'},\n",
       "   {'count': 2, 'value': 'jazz'},\n",
       "   {'count': 1, 'value': 'pop'},\n",
       "   {'count': 2, 'value': 'electronica'},\n",
       "   {'count': 1, 'value': '00s'},\n",
       "   {'count': 3, 'value': 'electronic'},\n",
       "   {'count': 3, 'value': 'iceland'},\n",
       "   {'count': 1, 'value': 'art pop'},\n",
       "   {'count': 1, 'value': 'progressive pop'},\n",
       "   {'count': 1, 'value': 'a cappella'},\n",
       "   {'count': 1, 'value': 'trip hop'},\n",
       "   {'count': 1, 'value': 'whimsically inclined'}],\n",
       "  'type': 'Person'},\n",
       " {'_id': ObjectId('5a3a0d1f06667e015a780952'),\n",
       "  'aliases': [{'name': 'Prodigy', 'sort_name': 'Prodigy'},\n",
       "   {'name': 'The Prodigy Vs. The Prodigy',\n",
       "    'sort_name': 'The Prodigy Vs. The Prodigy'}],\n",
       "  'area': 'United Kingdom',\n",
       "  'begin': {'year': 1990},\n",
       "  'ended': True,\n",
       "  'gid': '4a4ee089-93b1-4470-af9a-6ff575d32704',\n",
       "  'id': 44954,\n",
       "  'name': 'The Prodigy',\n",
       "  'rating': {'count': 23, 'value': 90},\n",
       "  'sort_name': 'Prodigy, The',\n",
       "  'tags': [{'count': 6, 'value': 'big beat'},\n",
       "   {'count': 1, 'value': 'english'},\n",
       "   {'count': 3, 'value': 'british'},\n",
       "   {'count': 1, 'value': 'industrial'},\n",
       "   {'count': 1, 'value': 'dance-punk'},\n",
       "   {'count': 2, 'value': 'uk'},\n",
       "   {'count': 2, 'value': 'breakbeat hardcore'},\n",
       "   {'count': 1, 'value': 'electropunk'},\n",
       "   {'count': 1, 'value': 'britannique'},\n",
       "   {'count': 1, 'value': 'electronica'},\n",
       "   {'count': 1, 'value': '2005'},\n",
       "   {'count': 6, 'value': 'electronic'},\n",
       "   {'count': 1, 'value': 'dance'},\n",
       "   {'count': 1, 'value': 'alternative rock'},\n",
       "   {'count': 1, 'value': 'dance and electronica'},\n",
       "   {'count': 1, 'value': 'rave'},\n",
       "   {'count': 2, 'value': 'hardcore'},\n",
       "   {'count': 1, 'value': 'rock'},\n",
       "   {'count': 1, 'value': 'breakbeat'},\n",
       "   {'count': 1, 'value': 'electro'},\n",
       "   {'count': 2, 'value': 'techno'}],\n",
       "  'type': 'Group'},\n",
       " {'_id': ObjectId('5a3a0d1f06667e015a7832fb'),\n",
       "  'aliases': [{'name': '蕾哈娜', 'sort_name': '蕾哈娜'},\n",
       "   {'name': 'Rhianna', 'sort_name': 'Rhianna'},\n",
       "   {'name': 'Riannah', 'sort_name': 'Riannah'},\n",
       "   {'name': 'Robyn Rihanna Fenty', 'sort_name': 'Fenty, Robyn Rihanna'},\n",
       "   {'name': 'Rihanna', 'sort_name': 'Rihanna'}],\n",
       "  'area': 'New York',\n",
       "  'begin': {'date': 20, 'month': 2, 'year': 1988},\n",
       "  'ended': True,\n",
       "  'gender': 'Female',\n",
       "  'gid': '73e5e69d-3554-40d8-8516-00cb38737a1c',\n",
       "  'id': 262731,\n",
       "  'name': 'Rihanna',\n",
       "  'rating': {'count': 15, 'value': 68},\n",
       "  'sort_name': 'Rihanna',\n",
       "  'tags': [{'count': 1, 'value': 'rnb'},\n",
       "   {'count': 3, 'value': 'barbadian'},\n",
       "   {'count': 1, 'value': 'pop and chart'},\n",
       "   {'count': 1, 'value': 'r&b'},\n",
       "   {'count': 2, 'value': 'dancehall'},\n",
       "   {'count': 1, 'value': 'reggae'},\n",
       "   {'count': 2, 'value': 'hip hop'},\n",
       "   {'count': 1, 'value': 'dance'},\n",
       "   {'count': 2, 'value': 'dance-pop'},\n",
       "   {'count': 4, 'value': 'pop'},\n",
       "   {'count': 1, 'value': 'barbade'},\n",
       "   {'count': 1, 'value': 'barbadien'},\n",
       "   {'count': 1, 'value': 'contemporary r b'},\n",
       "   {'count': 1, 'value': 'barbados'},\n",
       "   {'count': 1, 'value': 'rehab'}],\n",
       "  'type': 'Person'},\n",
       " {'_id': ObjectId('5a3a0d1506667e015a6cc91f'),\n",
       "  'aliases': [{'name': 'Bretney Spears', 'sort_name': 'Bretney Spears'},\n",
       "   {'name': 'B. Spears', 'sort_name': 'B. Spears'},\n",
       "   {'name': 'Brittany Spears', 'sort_name': 'Brittany Spears'},\n",
       "   {'name': 'Briteny Spears', 'sort_name': 'Briteny Spears'},\n",
       "   {'name': 'Brittney Spears', 'sort_name': 'Brittney Spears'},\n",
       "   {'name': 'Britney Jean Spears', 'sort_name': 'Spears, Britney Jean'}],\n",
       "  'area': 'United States',\n",
       "  'begin': {'date': 2, 'month': 12, 'year': 1981},\n",
       "  'ended': True,\n",
       "  'gender': 'Female',\n",
       "  'gid': '45a663b5-b1cb-4a91-bff6-2bef7bbfdd76',\n",
       "  'id': 791,\n",
       "  'name': 'Britney Spears',\n",
       "  'rating': {'count': 13, 'value': 83},\n",
       "  'sort_name': 'Spears, Britney',\n",
       "  'tags': [{'count': 7, 'value': 'pop'},\n",
       "   {'count': 1, 'value': 'américain'},\n",
       "   {'count': 1, 'value': 'electropop'},\n",
       "   {'count': 1, 'value': 'usa'},\n",
       "   {'count': 1, 'value': 'pop and chart'},\n",
       "   {'count': 1, 'value': 'dance-pop'},\n",
       "   {'count': 1, 'value': 'urban pop'},\n",
       "   {'count': 1, 'value': 'if you seek amy'},\n",
       "   {'count': 1, 'value': 'dance'},\n",
       "   {'count': 2, 'value': 'american'}],\n",
       "  'type': 'Person'},\n",
       " {'_id': ObjectId('5a3a0d1f06667e015a783b28'),\n",
       "  'aliases': [{'name': 'marron 5', 'sort_name': 'marron 5'},\n",
       "   {'name': 'マルーン５', 'sort_name': 'マルーン５'},\n",
       "   {'name': 'Maroon5', 'sort_name': 'Maroon5'}],\n",
       "  'area': 'United States',\n",
       "  'begin': {'year': 2002},\n",
       "  'ended': True,\n",
       "  'gid': '0ab49580-c84f-44d4-875f-d83760ea2cfe',\n",
       "  'id': 66179,\n",
       "  'name': 'Maroon 5',\n",
       "  'rating': {'count': 11, 'value': 60},\n",
       "  'sort_name': 'Maroon 5',\n",
       "  'tags': [{'count': 1, 'value': 'rock and indie'},\n",
       "   {'count': 1, 'value': 'slow pop'},\n",
       "   {'count': 1, 'value': 'automod ng'},\n",
       "   {'count': 1, 'value': 'pop'},\n",
       "   {'count': 1, 'value': 'rock'},\n",
       "   {'count': 1, 'value': 'dance'},\n",
       "   {'count': 1, 'value': 'pop/rock'},\n",
       "   {'count': 1, 'value': 'fixme label mess'}],\n",
       "  'type': 'Group'},\n",
       " {'_id': ObjectId('5a3a0d1906667e015a709ebc'),\n",
       "  'area': 'United States',\n",
       "  'begin': {'date': 29, 'month': 1, 'year': 1982},\n",
       "  'ended': True,\n",
       "  'gender': 'Male',\n",
       "  'gid': 'e942594a-91cc-427a-8beb-6815c28e9254',\n",
       "  'id': 627661,\n",
       "  'name': 'Adam Lambert',\n",
       "  'rating': {'count': 7, 'value': 100},\n",
       "  'sort_name': 'Lambert, Adam',\n",
       "  'tags': [{'count': 1, 'value': 'vocalist'},\n",
       "   {'count': 1, 'value': 'glam'},\n",
       "   {'count': 1, 'value': 'costume'},\n",
       "   {'count': 1, 'value': 'dance'},\n",
       "   {'count': 1, 'value': 'showman'},\n",
       "   {'count': 1, 'value': 'rock'},\n",
       "   {'count': 1, 'value': 'pop'},\n",
       "   {'count': 1, 'value': 'american idol'}],\n",
       "  'type': 'Person'},\n",
       " {'_id': ObjectId('5a3a0d1c06667e015a7407b6'),\n",
       "  'aliases': [{'name': 'ファットボーイ・スリム', 'sort_name': 'ファットボーイ・スリム'},\n",
       "   {'name': 'Fatboy Slim - Because We Can',\n",
       "    'sort_name': 'Fatboy Slim - Because We Can'},\n",
       "   {'name': 'Fatboy Slin', 'sort_name': 'Fatboy Slin'},\n",
       "   {'name': 'Fat Boy Slim', 'sort_name': 'Fat Boy Slim'}],\n",
       "  'area': 'United Kingdom',\n",
       "  'begin': {'date': 31, 'month': 7, 'year': 1963},\n",
       "  'ended': True,\n",
       "  'gender': 'Male',\n",
       "  'gid': '34c63966-445c-4613-afe1-4f0e1e53ae9a',\n",
       "  'id': 255,\n",
       "  'name': 'Fatboy Slim',\n",
       "  'rating': {'count': 7, 'value': 77},\n",
       "  'sort_name': 'Fatboy Slim',\n",
       "  'tags': [{'count': 1, 'value': 'trip hop'},\n",
       "   {'count': 3, 'value': 'electronic'},\n",
       "   {'count': 1, 'value': 'dance'},\n",
       "   {'count': 1, 'value': 'trip-hop'},\n",
       "   {'count': 1, 'value': 'english'},\n",
       "   {'count': 1, 'value': 'classic pop and rock'},\n",
       "   {'count': 2, 'value': 'uk'},\n",
       "   {'count': 2, 'value': 'big beat'},\n",
       "   {'count': 1, 'value': 'britannique'},\n",
       "   {'count': 3, 'value': 'british'},\n",
       "   {'count': 1, 'value': '1998'}],\n",
       "  'type': 'Person'},\n",
       " {'_id': ObjectId('5a3a0d1d06667e015a7552fc'),\n",
       "  'aliases': [{'name': 'Basementt Jaxx', 'sort_name': 'Basementt Jaxx'},\n",
       "   {'name': 'Basment Jaxx', 'sort_name': 'Basment Jaxx'},\n",
       "   {'name': 'Basemant Jaxx', 'sort_name': 'Basemant Jaxx'},\n",
       "   {'name': 'Bassment Jaxx', 'sort_name': 'Bassment Jaxx'},\n",
       "   {'name': 'Basement Jazz', 'sort_name': 'Basement Jazz'},\n",
       "   {'name': 'Basements Jaxx', 'sort_name': 'Basements Jaxx'}],\n",
       "  'area': 'United Kingdom',\n",
       "  'begin': {'year': 1994},\n",
       "  'ended': True,\n",
       "  'gid': '28cbf94d-0700-4095-a188-37e373b069a7',\n",
       "  'id': 1060,\n",
       "  'name': 'Basement Jaxx',\n",
       "  'rating': {'count': 6, 'value': 83},\n",
       "  'sort_name': 'Basement Jaxx',\n",
       "  'tags': [{'count': 1, 'value': 'english'},\n",
       "   {'count': 2, 'value': 'uk'},\n",
       "   {'count': 1, 'value': 'house'},\n",
       "   {'count': 1, 'value': 'uk garage'},\n",
       "   {'count': 3, 'value': 'dance'},\n",
       "   {'count': 4, 'value': 'british'},\n",
       "   {'count': 1, 'value': 'dance and electronica'},\n",
       "   {'count': 1, 'value': '10s'},\n",
       "   {'count': 2, 'value': 'electronic'},\n",
       "   {'count': 1, 'value': '00s'},\n",
       "   {'count': 1, 'value': '90s'}],\n",
       "  'type': 'Group'},\n",
       " {'_id': ObjectId('5a3a0d1c06667e015a7520db'),\n",
       "  'aliases': [{'name': 'Conershop', 'sort_name': 'Conershop'},\n",
       "   {'name': 'Corner Shop -', 'sort_name': 'Corner Shop -'},\n",
       "   {'name': 'Cornership', 'sort_name': 'Cornership'},\n",
       "   {'name': 'Corner Shop', 'sort_name': 'Corner Shop'}],\n",
       "  'area': 'United Kingdom',\n",
       "  'begin': {'year': 1991},\n",
       "  'ended': True,\n",
       "  'gid': '92046be7-0927-4835-a4ed-a90416747d53',\n",
       "  'id': 798,\n",
       "  'name': 'Cornershop',\n",
       "  'rating': {'count': 5, 'value': 68},\n",
       "  'sort_name': 'Cornershop',\n",
       "  'tags': [{'count': 1, 'value': 'dance'},\n",
       "   {'count': 1, 'value': 'indie'},\n",
       "   {'count': 1, 'value': 'brit pop'},\n",
       "   {'count': 1, 'value': 'indian'},\n",
       "   {'count': 2, 'value': 'british'},\n",
       "   {'count': 1, 'value': 'uk'},\n",
       "   {'count': 1, 'value': 'asian'},\n",
       "   {'count': 1, 'value': 'british asian'},\n",
       "   {'count': 1, 'value': 'english'},\n",
       "   {'count': 1, 'value': 'rock and indie'}],\n",
       "  'type': 'Group'}]"
      ]
     },
     "execution_count": 12,
     "metadata": {},
     "output_type": "execute_result"
    }
   ],
   "source": [
    "# tags.valueがdanceのもので絞り込み\n",
    "dance_collection = collection.find({\"tags.value\": \"dance\"})\n",
    "\n",
    "# rating.countを降順でソートし最初の10個を取ってくる\n",
    "list(dance_collection.sort(\"rating.count\", pymongo.DESCENDING).limit(10))"
   ]
  },
  {
   "cell_type": "markdown",
   "metadata": {},
   "source": [
    "### 69. Webアプリケーションの作成\n",
    "\n",
    "ユーザから入力された検索条件に合致するアーティストの情報を表示するWebアプリケーションを作成せよ．アーティスト名，アーティストの別名，タグ等で検索条件を指定し，アーティスト情報のリストをレーティングの高い順などで整列して表示せよ．"
   ]
  },
  {
   "cell_type": "markdown",
   "metadata": {},
   "source": [
    "_省略!!!!!!!!_"
   ]
  }
 ],
 "metadata": {
  "kernelspec": {
   "display_name": "Python 3",
   "language": "python",
   "name": "python3"
  },
  "language_info": {
   "codemirror_mode": {
    "name": "ipython",
    "version": 3
   },
   "file_extension": ".py",
   "mimetype": "text/x-python",
   "name": "python",
   "nbconvert_exporter": "python",
   "pygments_lexer": "ipython3",
   "version": "3.6.3"
  }
 },
 "nbformat": 4,
 "nbformat_minor": 2
}
